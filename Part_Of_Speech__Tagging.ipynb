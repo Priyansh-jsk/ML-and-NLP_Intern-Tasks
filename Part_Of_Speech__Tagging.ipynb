{
  "nbformat": 4,
  "nbformat_minor": 0,
  "metadata": {
    "colab": {
      "name": "Part Of Speech_ Tagging.ipynb",
      "provenance": []
    },
    "kernelspec": {
      "name": "python3",
      "display_name": "Python 3"
    },
    "language_info": {
      "name": "python"
    }
  },
  "cells": [
    {
      "cell_type": "code",
      "execution_count": null,
      "metadata": {
        "id": "yWiajjJdPB1P"
      },
      "outputs": [],
      "source": [
        "import spacy"
      ]
    },
    {
      "cell_type": "code",
      "source": [
        "nlp = spacy.load(\"en_core_web_sm\")\n",
        "doc = nlp(\"Elon Reeve Musk FRS is a business magnate and investor. He is the founder, CEO, and Chief Engineer at SpaceX; angel investor, CEO, and Product Architect of Tesla, Inc.; founder of The Boring Company; and co-founder of Neuralink and OpenAI.\")\n",
        "\n",
        "for token in doc:\n",
        "    print(token,\"||\", token.pos_, \"||\",  spacy.explain(token.pos_))"
      ],
      "metadata": {
        "colab": {
          "base_uri": "https://localhost:8080/"
        },
        "id": "Xt3diuFbRvrj",
        "outputId": "a831e9de-d746-43e6-ec91-2f020f7f8d23"
      },
      "execution_count": null,
      "outputs": [
        {
          "output_type": "stream",
          "name": "stdout",
          "text": [
            "Elon || PROPN || proper noun\n",
            "Reeve || PROPN || proper noun\n",
            "Musk || PROPN || proper noun\n",
            "FRS || PROPN || proper noun\n",
            "is || AUX || auxiliary\n",
            "a || DET || determiner\n",
            "business || NOUN || noun\n",
            "magnate || NOUN || noun\n",
            "and || CCONJ || coordinating conjunction\n",
            "investor || NOUN || noun\n",
            ". || PUNCT || punctuation\n",
            "He || PRON || pronoun\n",
            "is || AUX || auxiliary\n",
            "the || DET || determiner\n",
            "founder || NOUN || noun\n",
            ", || PUNCT || punctuation\n",
            "CEO || PROPN || proper noun\n",
            ", || PUNCT || punctuation\n",
            "and || CCONJ || coordinating conjunction\n",
            "Chief || PROPN || proper noun\n",
            "Engineer || PROPN || proper noun\n",
            "at || ADP || adposition\n",
            "SpaceX || NOUN || noun\n",
            "; || PUNCT || punctuation\n",
            "angel || PROPN || proper noun\n",
            "investor || NOUN || noun\n",
            ", || PUNCT || punctuation\n",
            "CEO || NOUN || noun\n",
            ", || PUNCT || punctuation\n",
            "and || CCONJ || coordinating conjunction\n",
            "Product || PROPN || proper noun\n",
            "Architect || PROPN || proper noun\n",
            "of || ADP || adposition\n",
            "Tesla || PROPN || proper noun\n",
            ", || PUNCT || punctuation\n",
            "Inc. || PROPN || proper noun\n",
            "; || PUNCT || punctuation\n",
            "founder || NOUN || noun\n",
            "of || ADP || adposition\n",
            "The || DET || determiner\n",
            "Boring || PROPN || proper noun\n",
            "Company || PROPN || proper noun\n",
            "; || PUNCT || punctuation\n",
            "and || CCONJ || coordinating conjunction\n",
            "co || NOUN || noun\n",
            "- || NOUN || noun\n",
            "founder || NOUN || noun\n",
            "of || ADP || adposition\n",
            "Neuralink || PROPN || proper noun\n",
            "and || CCONJ || coordinating conjunction\n",
            "OpenAI || PROPN || proper noun\n",
            ". || PUNCT || punctuation\n"
          ]
        }
      ]
    },
    {
      "cell_type": "markdown",
      "source": [
        "Removing all SPACE, PUNCT and X token from text"
      ],
      "metadata": {
        "id": "qn5kca6_Sjhk"
      }
    },
    {
      "cell_type": "code",
      "source": [
        "elon_text = \"\"\"Elon Reeve Musk FRS is a business magnate and investor. He is the founder, CEO, and Chief Engineer at SpaceX; angel investor, CEO, and Product Architect of Tesla, Inc.; founder of The Boring Company; and co-founder of Neuralink and OpenAI.\"\"\"\n",
        "\n",
        "doc = nlp(elon_text)\n",
        "filtered_tokens = []\n",
        "\n",
        "for token in doc:\n",
        "    if token.pos_ not in [\"SPACE\", \"PUNCT\", \"X\"]:\n",
        "        filtered_tokens.append(token)"
      ],
      "metadata": {
        "id": "XR39EGfqSKvg"
      },
      "execution_count": null,
      "outputs": []
    },
    {
      "cell_type": "code",
      "source": [
        "filtered_tokens[:50]"
      ],
      "metadata": {
        "colab": {
          "base_uri": "https://localhost:8080/"
        },
        "id": "wHHtbP1DS8jd",
        "outputId": "76dfc7d4-ebf8-4d77-d2f4-c7a2bc3905ba"
      },
      "execution_count": null,
      "outputs": [
        {
          "output_type": "execute_result",
          "data": {
            "text/plain": [
              "[Elon,\n",
              " Reeve,\n",
              " Musk,\n",
              " FRS,\n",
              " is,\n",
              " a,\n",
              " business,\n",
              " magnate,\n",
              " and,\n",
              " investor,\n",
              " He,\n",
              " is,\n",
              " the,\n",
              " founder,\n",
              " CEO,\n",
              " and,\n",
              " Chief,\n",
              " Engineer,\n",
              " at,\n",
              " SpaceX,\n",
              " angel,\n",
              " investor,\n",
              " CEO,\n",
              " and,\n",
              " Product,\n",
              " Architect,\n",
              " of,\n",
              " Tesla,\n",
              " Inc.,\n",
              " founder,\n",
              " of,\n",
              " The,\n",
              " Boring,\n",
              " Company,\n",
              " and,\n",
              " co,\n",
              " -,\n",
              " founder,\n",
              " of,\n",
              " Neuralink,\n",
              " and,\n",
              " OpenAI]"
            ]
          },
          "metadata": {},
          "execution_count": 6
        }
      ]
    },
    {
      "cell_type": "code",
      "source": [
        ""
      ],
      "metadata": {
        "id": "K1oTE5FPTDYe"
      },
      "execution_count": null,
      "outputs": []
    }
  ]
}