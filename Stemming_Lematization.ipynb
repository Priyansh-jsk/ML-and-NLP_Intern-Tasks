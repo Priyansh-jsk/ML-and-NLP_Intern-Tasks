{
  "nbformat": 4,
  "nbformat_minor": 0,
  "metadata": {
    "colab": {
      "name": "Stemming_Lematization.ipynb",
      "provenance": []
    },
    "kernelspec": {
      "name": "python3",
      "display_name": "Python 3"
    },
    "language_info": {
      "name": "python"
    }
  },
  "cells": [
    {
      "cell_type": "markdown",
      "source": [
        "Stemming in NLTK"
      ],
      "metadata": {
        "id": "UWmIJaMtKVyr"
      }
    },
    {
      "cell_type": "code",
      "execution_count": null,
      "metadata": {
        "id": "2s6mtp80AUU9"
      },
      "outputs": [],
      "source": [
        "import nltk"
      ]
    },
    {
      "cell_type": "code",
      "source": [
        "from nltk.stem import PorterStemmer\n",
        "stemmer = PorterStemmer()"
      ],
      "metadata": {
        "id": "esudVsHFJLZg"
      },
      "execution_count": null,
      "outputs": []
    },
    {
      "cell_type": "code",
      "source": [
        "words = [\"eating\", \"eats\", \"eat\", \"ate\", \"adjustable\", \"rafting\", \"ability\", \"meeting\", \"Neema\", \"Priyansh\", \"giving\", \"help\", \"helping\"]\n",
        "for word in words:\n",
        "  print(word, \"||\", stemmer.stem(word))"
      ],
      "metadata": {
        "colab": {
          "base_uri": "https://localhost:8080/"
        },
        "id": "KM2Lz4fAJhvi",
        "outputId": "973aa124-62b6-4db5-a0e8-fb2e35dd72cd"
      },
      "execution_count": null,
      "outputs": [
        {
          "output_type": "stream",
          "name": "stdout",
          "text": [
            "eating || eat\n",
            "eats || eat\n",
            "eat || eat\n",
            "ate || ate\n",
            "adjustable || adjust\n",
            "rafting || raft\n",
            "ability || abil\n",
            "meeting || meet\n",
            "Neema || neema\n",
            "Priyansh || priyansh\n",
            "giving || give\n",
            "help || help\n",
            "helping || help\n"
          ]
        }
      ]
    },
    {
      "cell_type": "markdown",
      "source": [
        "Lemmatization in Spacy"
      ],
      "metadata": {
        "id": "STAM6-nSKQs6"
      }
    },
    {
      "cell_type": "code",
      "source": [
        "import spacy"
      ],
      "metadata": {
        "id": "WjvUnngtKFH9"
      },
      "execution_count": null,
      "outputs": []
    },
    {
      "cell_type": "code",
      "source": [
        "nlp = spacy.load(\"en_core_web_sm\")\n",
        "\n",
        "doc = nlp(\"eating eats eat ate adjustable rafting ability meeting better Priyansh Neema\")"
      ],
      "metadata": {
        "id": "9n_yTAPqKZ6e"
      },
      "execution_count": null,
      "outputs": []
    },
    {
      "cell_type": "code",
      "source": [
        "for token in doc:\n",
        "  print(token, \"||\", token.lemma_, \"||\", token.lemma)"
      ],
      "metadata": {
        "colab": {
          "base_uri": "https://localhost:8080/"
        },
        "id": "qfKh2VgJKwC1",
        "outputId": "a74a64ed-bc27-4836-b345-15685c07a6de"
      },
      "execution_count": null,
      "outputs": [
        {
          "output_type": "stream",
          "name": "stdout",
          "text": [
            "eating || eating || 12092082220177030354\n",
            "eats || eat || 9837207709914848172\n",
            "eat || eat || 9837207709914848172\n",
            "ate || eat || 9837207709914848172\n",
            "adjustable || adjustable || 6033511944150694480\n",
            "rafting || raft || 7154368781129989833\n",
            "ability || ability || 11565809527369121409\n",
            "meeting || meet || 6880656908171229526\n",
            "better || well || 4525988469032889948\n",
            "Priyansh || Priyansh || 3147920179467786770\n",
            "Neema || Neema || 16217053623112574874\n"
          ]
        }
      ]
    },
    {
      "cell_type": "code",
      "source": [
        "doc = nlp(\"John talked for 3 hours although talking isn't his thing\")\n",
        "\n",
        "for token in doc:\n",
        "  print(token, \"||\", token.lemma_, \"||\", token.lemma)"
      ],
      "metadata": {
        "colab": {
          "base_uri": "https://localhost:8080/"
        },
        "id": "sA0lBC0CLcBg",
        "outputId": "53a7f4ad-b35e-4cfa-f626-5966225c0851"
      },
      "execution_count": null,
      "outputs": [
        {
          "output_type": "stream",
          "name": "stdout",
          "text": [
            "John || John || 11174346320140919546\n",
            "talked || talk || 13939146775466599234\n",
            "for || for || 16037325823156266367\n",
            "3 || 3 || 602994839685422785\n",
            "hours || hour || 9748623380567160636\n",
            "although || although || 343236316598008647\n",
            "talking || talk || 13939146775466599234\n",
            "is || be || 10382539506755952630\n",
            "n't || not || 447765159362469301\n",
            "his || his || 2661093235354845946\n",
            "thing || thing || 2473243759842082748\n"
          ]
        }
      ]
    },
    {
      "cell_type": "markdown",
      "source": [
        "Customizing lemmatizer"
      ],
      "metadata": {
        "id": "Z_6o8aTaMh47"
      }
    },
    {
      "cell_type": "code",
      "source": [
        "nlp.pipe_names"
      ],
      "metadata": {
        "colab": {
          "base_uri": "https://localhost:8080/"
        },
        "id": "oT6ovbKdMhkC",
        "outputId": "9d9ba04c-8391-4d6f-8ae4-ba9d5cb9e8d7"
      },
      "execution_count": null,
      "outputs": [
        {
          "output_type": "execute_result",
          "data": {
            "text/plain": [
              "['tok2vec', 'tagger', 'parser', 'attribute_ruler', 'lemmatizer', 'ner']"
            ]
          },
          "metadata": {},
          "execution_count": 20
        }
      ]
    },
    {
      "cell_type": "code",
      "source": [
        "ar = nlp.get_pipe('attribute_ruler')\n",
        "ar.add([[{\"TEXT\":\"Bro\"}],[{\"TEXT\":\"Brah\"}]],{\"LEMMA\":\"Priyansh\"})     #custome rule"
      ],
      "metadata": {
        "id": "LJCQEjOaNr3y"
      },
      "execution_count": null,
      "outputs": []
    },
    {
      "cell_type": "code",
      "source": [
        "doc = nlp(\"Bro, you wanna go? Brah, don't say no! I am exhausted\")\n",
        "for token in doc:\n",
        "    print(token.text, \"||\", token.lemma_)"
      ],
      "metadata": {
        "colab": {
          "base_uri": "https://localhost:8080/"
        },
        "id": "DYfeig3JMKtn",
        "outputId": "3acfd64c-6297-44ee-8084-e62c62df2054"
      },
      "execution_count": null,
      "outputs": [
        {
          "output_type": "stream",
          "name": "stdout",
          "text": [
            "Bro || Priyansh\n",
            ", || ,\n",
            "you || you\n",
            "wanna || wanna\n",
            "go || go\n",
            "? || ?\n",
            "Brah || Priyansh\n",
            ", || ,\n",
            "do || do\n",
            "n't || not\n",
            "say || say\n",
            "no || no\n",
            "! || !\n",
            "I || I\n",
            "am || be\n",
            "exhausted || exhaust\n"
          ]
        }
      ]
    },
    {
      "cell_type": "code",
      "source": [
        "doc[6].lemma_"
      ],
      "metadata": {
        "colab": {
          "base_uri": "https://localhost:8080/",
          "height": 35
        },
        "id": "dqRsMyM_M8Ov",
        "outputId": "8d87f8cf-a567-4aba-e2fe-43e9642f9a0f"
      },
      "execution_count": null,
      "outputs": [
        {
          "output_type": "execute_result",
          "data": {
            "text/plain": [
              "'Priyansh'"
            ],
            "application/vnd.google.colaboratory.intrinsic+json": {
              "type": "string"
            }
          },
          "metadata": {},
          "execution_count": 33
        }
      ]
    },
    {
      "cell_type": "code",
      "source": [
        "doc[0]"
      ],
      "metadata": {
        "colab": {
          "base_uri": "https://localhost:8080/"
        },
        "id": "EycAtZ9lNBKk",
        "outputId": "3045ad1a-e59b-47aa-d867-3771585231fc"
      },
      "execution_count": null,
      "outputs": [
        {
          "output_type": "execute_result",
          "data": {
            "text/plain": [
              "Bro"
            ]
          },
          "metadata": {},
          "execution_count": 34
        }
      ]
    },
    {
      "cell_type": "code",
      "source": [
        "doc[0].lemma_"
      ],
      "metadata": {
        "colab": {
          "base_uri": "https://localhost:8080/",
          "height": 35
        },
        "id": "7MxmxiX1NNGj",
        "outputId": "3f21b331-89ce-4bff-8e1b-14090f90ec5a"
      },
      "execution_count": null,
      "outputs": [
        {
          "output_type": "execute_result",
          "data": {
            "text/plain": [
              "'Priyansh'"
            ],
            "application/vnd.google.colaboratory.intrinsic+json": {
              "type": "string"
            }
          },
          "metadata": {},
          "execution_count": 35
        }
      ]
    },
    {
      "cell_type": "code",
      "source": [
        "doc[3]"
      ],
      "metadata": {
        "colab": {
          "base_uri": "https://localhost:8080/"
        },
        "id": "i-w4y0ujNBHK",
        "outputId": "813c1f5a-062e-4940-cabf-08dc49b8a0ff"
      },
      "execution_count": null,
      "outputs": [
        {
          "output_type": "execute_result",
          "data": {
            "text/plain": [
              "wanna"
            ]
          },
          "metadata": {},
          "execution_count": 36
        }
      ]
    },
    {
      "cell_type": "code",
      "source": [
        "doc[2]"
      ],
      "metadata": {
        "colab": {
          "base_uri": "https://localhost:8080/"
        },
        "id": "uSKFVr7uNBCz",
        "outputId": "011ae156-00d5-4295-facb-4115c504e014"
      },
      "execution_count": null,
      "outputs": [
        {
          "output_type": "execute_result",
          "data": {
            "text/plain": [
              "you"
            ]
          },
          "metadata": {},
          "execution_count": 25
        }
      ]
    },
    {
      "cell_type": "code",
      "source": [
        ""
      ],
      "metadata": {
        "id": "Yeb6TE5eNA-Y"
      },
      "execution_count": null,
      "outputs": []
    }
  ]
}